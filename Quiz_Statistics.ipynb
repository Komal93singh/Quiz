{
 "cells": [
  {
   "cell_type": "code",
   "execution_count": null,
   "id": "b173a878-143f-4388-87dc-d8683ea2de6c",
   "metadata": {},
   "outputs": [],
   "source": []
  },
  {
   "cell_type": "markdown",
   "id": "e85cf6f9-85d3-4c2d-8779-b61afc7861cb",
   "metadata": {},
   "source": [
    "# Quiz : Statistics\n",
    "---"
   ]
  },
  {
   "cell_type": "code",
   "execution_count": null,
   "id": "87cf41a8-2cde-4aae-93f7-3138235ae8b4",
   "metadata": {},
   "outputs": [],
   "source": []
  },
  {
   "cell_type": "markdown",
   "id": "876a9996-46e0-485d-847c-d16ca88c97be",
   "metadata": {},
   "source": [
    "#### Q1 What does a p-value of 0.05 signify in hypothesis testing? \n",
    "1. strong evidence the null hypothesis\n",
    "2. weak  evidence the null hypothesis\n",
    "3. no evidence against the null hypothesus\n",
    "4. evidence in favor of the null hypothesis  "
   ]
  },
  {
   "cell_type": "markdown",
   "id": "7a2c31d1-821b-404a-9b77-acea1222a28d",
   "metadata": {},
   "source": [
    "Ans **1. strong evidence the null hypothesis** \n",
    "#### Explanation: \n",
    "A p-value of 0.05 in hypothesis testing indicates that there is a 5% probability of observing the data, or something more extreme, if the null hypothesis is true.\n",
    "\n",
    "In practical terms:\n",
    "\n",
    "If the p-value is less than or equal to the chosen significance level (commonly 0.05), it suggests that the observed data are unlikely under the null hypothesis, and you may reject the null hypothesis in favor of the alternative hypothesis.\n",
    "If the p-value is greater than 0.05, you do not have enough evidence to reject the null hypothesis.\n",
    "Thus, a p-value of 0.05 is commonly used as the threshold for statistical significance, though this threshold is arbitrary and can be adjusted depending on the context. It represents a balance between avoiding false positives (Type I errors) and false negatives (Type II errors).\n",
    "\n",
    "\n",
    "\n"
   ]
  },
  {
   "cell_type": "code",
   "execution_count": null,
   "id": "7e9aaf81-2cbb-47b3-a43a-d92762b0638d",
   "metadata": {},
   "outputs": [],
   "source": []
  },
  {
   "cell_type": "markdown",
   "id": "1426cb41-47cc-4413-8991-ec1a051f4045",
   "metadata": {},
   "source": [
    "#### Q2 which type of data is typically analayzed using the chi-square test? \n",
    "1. continuous\n",
    "2. categorical\n",
    "3. ordinal\n",
    "4. ratio "
   ]
  },
  {
   "cell_type": "markdown",
   "id": "f01da146-002d-4efe-baef-3d5e0f396d4f",
   "metadata": {},
   "source": [
    "The correct answer is:\n",
    "\n",
    "**2. categorical**\n",
    "\n",
    "#### Explanation:\n",
    "The chi-square test is typically used to analyze categorical data. It is commonly applied to test the association or independence between two categorical variables or to compare observed frequencies with expected frequencies in different categories."
   ]
  },
  {
   "cell_type": "code",
   "execution_count": null,
   "id": "5532dff5-07a6-4b13-a638-1a0a5e0781c9",
   "metadata": {},
   "outputs": [],
   "source": []
  },
  {
   "cell_type": "markdown",
   "id": "9abc9007-3bd7-4732-ba1f-3c958fe29732",
   "metadata": {},
   "source": [
    "#### Q3 what does bayes theorem calculate? \n",
    "1. probability of an event given prior knowledge\n",
    "2. probability of prior knowledge given an event\n",
    "3. probablity of an event occuring\n",
    "4. probablity of an event given the absence of prior knowledge "
   ]
  },
  {
   "cell_type": "markdown",
   "id": "eae7a29b-d070-4d6e-bc43-1a001999788f",
   "metadata": {},
   "source": [
    "The correct answer is:\n",
    "\n",
    "**1. probability of an event given prior knowledge**\n",
    "\n",
    "#### Explanation:\n",
    "Bayes' Theorem calculates the probability of an event occurring (the *posterior probability*) given prior knowledge or evidence. It updates the probability of an event based on new data or information, incorporating both the prior probability and the likelihood of the evidence under different hypotheses."
   ]
  },
  {
   "cell_type": "code",
   "execution_count": null,
   "id": "4550f083-fc2b-462d-8fb3-9394e5781b06",
   "metadata": {},
   "outputs": [],
   "source": []
  },
  {
   "cell_type": "markdown",
   "id": "37247080-34f8-4584-a2b6-95b1eb84e9e5",
   "metadata": {},
   "source": [
    "#### Q4 what does a 95% confidence interval indicate?\n",
    "1. there is a 95% chance that the population mean lies within the interval\n",
    "2. there is a 5% chance that the sample mean lies within the interval\n",
    "3. there is a 95% chance that the sample mean lies within the interval\n",
    "4. there is a 5% chance that the population mean lies within the interval"
   ]
  },
  {
   "cell_type": "markdown",
   "id": "1f8e801f-45f0-4f5d-aa0f-c5c52de73245",
   "metadata": {},
   "source": [
    "The correct answer is:\n",
    "\n",
    "**1. there is a 95% chance that the population mean lies within the interval**\n",
    "\n",
    "#### Explanation:\n",
    "A 95% confidence interval indicates that if you were to take many random samples from the population and calculate a confidence interval for each sample, approximately 95% of those intervals would contain the true population mean. It does not mean that there's a 95% chance that the population mean is within a specific interval for any one sample, but rather that the interval has been constructed in such a way that it would contain the population mean in 95% of repeated sampling scenarios."
   ]
  },
  {
   "cell_type": "code",
   "execution_count": null,
   "id": "4f00cd89-1851-48c7-bc54-c40a62dcd64f",
   "metadata": {},
   "outputs": [],
   "source": []
  },
  {
   "cell_type": "markdown",
   "id": "feb94ac2-2769-4692-8241-3160479d55f5",
   "metadata": {},
   "source": [
    "#### Q5 what does the central limit theorem state?\n",
    "1. the sample mean is always equal to the population mean\n",
    "2. the sample mean follows a normal distribution\n",
    "3. the sampling distribution of the sample mean approaches a normal distribution as the sample size increases\n",
    "4. the sample size should be small to accurately estimate the population parameter"
   ]
  },
  {
   "cell_type": "markdown",
   "id": "9c9b9068-034a-4f40-92f3-5827c66723a4",
   "metadata": {},
   "source": [
    "The correct answer is:\n",
    "\n",
    "**3. the sampling distribution of the sample mean approaches a normal distribution as the sample size increases**\n",
    "\n",
    "#### Explanation:\n",
    "The Central Limit Theorem states that, regardless of the shape of the original population distribution, the distribution of the sample mean will tend to be normal (or approximately normal) as the sample size increases, typically becoming close to normal with sample sizes of 30 or more. This is crucial because it allows for the use of normal probability methods in hypothesis testing and confidence interval estimation, even when the underlying population is not normally distributed."
   ]
  },
  {
   "cell_type": "code",
   "execution_count": null,
   "id": "cb281ae7-3d1f-444b-965f-6cba0e84e8b4",
   "metadata": {},
   "outputs": [],
   "source": []
  },
  {
   "cell_type": "markdown",
   "id": "ea0fce9d-5d56-4919-ad9c-f8ec1fc15c04",
   "metadata": {},
   "source": [
    "#### Q6 which assumption is violated if the pvalue of ANOVA is significant?\n",
    "1. homogeneity of variances\n",
    "2. normality of the data\n",
    "3. independence of observations\n",
    "4. equal sample sizes"
   ]
  },
  {
   "cell_type": "markdown",
   "id": "235d34ad-4969-4c1b-9cf9-354f2d239826",
   "metadata": {},
   "source": [
    "The correct answer is:\n",
    "\n",
    "**1. homogeneity of variances**\n",
    "\n",
    "#### Explanation:\n",
    "In ANOVA (Analysis of Variance), one of the key assumptions is that the variances of the groups being compared are equal (homogeneity of variances). If this assumption is violated, it can lead to inaccurate conclusions, especially when the p-value from the ANOVA test is significant. Homogeneity of variances is often tested using Levene's test or similar methods.\n",
    "\n",
    "While violations of normality, independence, or equal sample sizes can also affect ANOVA results, the most direct assumption related to the validity of the p-value in ANOVA is the homogeneity of variances."
   ]
  },
  {
   "cell_type": "code",
   "execution_count": null,
   "id": "8b5d2b60-c513-496a-a507-3d3fff821e71",
   "metadata": {},
   "outputs": [],
   "source": []
  },
  {
   "cell_type": "markdown",
   "id": "345f59b5-7e41-4e00-8781-e5f297515c18",
   "metadata": {},
   "source": [
    "#### Q7 what does a large f- statistic indicate in ANOVA?\n",
    "1. strong evidence against the null hypothesis\n",
    "2. weak evidence against the null hypothesis\n",
    "3. strong evidence in favor of the null hypothesis\n",
    "4. no evidence against the null hypothesis"
   ]
  },
  {
   "cell_type": "markdown",
   "id": "dab0cad5-de7e-438c-a7b8-dfbe6ee01b51",
   "metadata": {},
   "source": [
    "The correct answer is:\n",
    "\n",
    "**1. strong evidence against the null hypothesis**\n",
    "\n",
    "#### Explanation:\n",
    "In ANOVA, a large F-statistic indicates that the variability between the group means is much larger than the variability within the groups. This suggests that there are significant differences between at least some of the group means, providing strong evidence against the null hypothesis, which typically states that all group means are equal. The larger the F-statistic, the more evidence there is to reject the null hypothesis in favor of the alternative hypothesis."
   ]
  },
  {
   "cell_type": "code",
   "execution_count": null,
   "id": "e325cd5a-d5db-422a-8d06-7f59a6360154",
   "metadata": {},
   "outputs": [],
   "source": []
  },
  {
   "cell_type": "markdown",
   "id": "ea6a5693-a834-4cec-854c-a8907434df8d",
   "metadata": {},
   "source": [
    "#### Q8 what is the f- statistics used to test in ANOVA?\n",
    "1. difference in means of two independent groups\n",
    "2. difference in means of three or more independent groups\n",
    "3. difference in means of two paired samples\n",
    "4. difference in proportions of two independent groups"
   ]
  },
  {
   "cell_type": "markdown",
   "id": "e6042d57-3895-4476-890c-06f50cca81aa",
   "metadata": {},
   "source": [
    "The correct answer is:\n",
    "\n",
    "**2. difference in means of three or more independent groups**\n",
    "\n",
    "#### Explanation:\n",
    "In ANOVA (Analysis of Variance), the F-statistic is used to test whether there are significant differences between the means of three or more independent groups. The test compares the variability between the group means to the variability within the groups to determine if the observed differences are statistically significant. If the F-statistic is large, it suggests that at least one group mean is different from the others."
   ]
  },
  {
   "cell_type": "code",
   "execution_count": null,
   "id": "bb8a5ce0-0efc-41d3-8400-217e093890d3",
   "metadata": {},
   "outputs": [],
   "source": []
  },
  {
   "cell_type": "markdown",
   "id": "a2262fd1-dde8-440f-a4f0-de10dc80065a",
   "metadata": {},
   "source": [
    "#### Q9 which  assumption is not required for a t-test?\n",
    "1. normality of the data\n",
    "2. homogeneity of variances\n",
    "3. independence of observations\n",
    "4. equal sample sizes"
   ]
  },
  {
   "cell_type": "markdown",
   "id": "a3afb83d-293a-41fb-bd3b-7f5f498e1daa",
   "metadata": {},
   "source": [
    "The correct answer is:\n",
    "\n",
    "**4. equal sample sizes**\n",
    "\n",
    "#### Explanation:\n",
    "For a t-test, the assumptions that must be met are:\n",
    "\n",
    "- **Normality of the data**: The data in each group should be approximately normally distributed, especially for small sample sizes.\n",
    "- **Homogeneity of variances** (for independent samples t-test): The variances of the two groups being compared should be approximately equal.\n",
    "- **Independence of observations**: The observations within each group, as well as between groups, should be independent.\n",
    "\n",
    "However, **equal sample sizes** are not a requirement for a t-test. While equal sample sizes can help increase the power of the test and make the results more reliable, the t-test can still be conducted with unequal sample sizes, provided the other assumptions are met."
   ]
  },
  {
   "cell_type": "code",
   "execution_count": null,
   "id": "f42a3c5c-fcf0-48bb-acd0-13336d07e9a6",
   "metadata": {},
   "outputs": [],
   "source": []
  },
  {
   "cell_type": "markdown",
   "id": "0b86496c-a3ee-4e38-9410-699aeb4e854e",
   "metadata": {},
   "source": [
    "#### Q10 which type of t- test is used to compare the means of two independent groups?\n",
    "1. one sample t-test\n",
    "2. paired t-test\n",
    "3. independent samples t-test\n",
    "4. dependent samples t-test"
   ]
  },
  {
   "cell_type": "markdown",
   "id": "0ebffd35-5ee1-4abe-8c46-a515ec7c7d2a",
   "metadata": {},
   "source": [
    "The correct answer is:\n",
    "\n",
    "**3. independent samples t-test**\n",
    "\n",
    "#### Explanation:\n",
    "The independent samples t-test is used to compare the means of two independent groups. It assesses whether there is a statistically significant difference between the means of the two groups. Each group is composed of different individuals, and the samples are not related or paired in any way."
   ]
  },
  {
   "cell_type": "code",
   "execution_count": null,
   "id": "db254c6d-27c8-4aa3-879e-a34d901bb862",
   "metadata": {},
   "outputs": [],
   "source": []
  },
  {
   "cell_type": "markdown",
   "id": "799e399d-4933-4885-ac5a-3008cb0d1be4",
   "metadata": {},
   "source": [
    "#### Q11 when is a z-test appropriate to use ?\n",
    "1. when the population standard  deviation is known\n",
    "2. when the population mean is unknown\n",
    "3. when the sample size is small\n",
    "4. when the data is not normally distributed"
   ]
  },
  {
   "cell_type": "markdown",
   "id": "c9c24844-582a-4823-b50d-474d414dbd04",
   "metadata": {},
   "source": [
    "The correct answer is:\n",
    "\n",
    "**1. when the population standard deviation is known**\n",
    "\n",
    "#### Explanation:\n",
    "A z-test is appropriate to use when the population standard deviation is known and the sample size is sufficiently large (usually n > 30). The z-test uses the standard normal distribution (z-distribution) to determine the probability of observing a sample mean given the known population parameters. If the population standard deviation is unknown, a t-test is typically used instead."
   ]
  },
  {
   "cell_type": "code",
   "execution_count": null,
   "id": "edde38e0-63b3-423a-bf3d-7d85e0967b03",
   "metadata": {},
   "outputs": [],
   "source": []
  },
  {
   "cell_type": "markdown",
   "id": "b7378311-a935-4907-be45-f50def777442",
   "metadata": {},
   "source": [
    "#### Q12 In a Z-test , what is the population standard deviation known as?\n",
    "1. sample standard deviation\n",
    "2. critical value\n",
    "3. test statistics\n",
    "4. population parameter"
   ]
  },
  {
   "cell_type": "markdown",
   "id": "5e2b560e-e984-4c65-9a5e-9ce736efe134",
   "metadata": {},
   "source": [
    "The correct answer is:\n",
    "\n",
    "**4. population parameter**\n",
    "\n",
    "#### Explanation:\n",
    "In a Z-test, the population standard deviation is considered a **population parameter** because it is a characteristic of the entire population, which is known or assumed to be known. This is in contrast to the sample standard deviation, which is an estimate based on data from a sample. The population parameter is used to calculate the test statistic for the Z-test."
   ]
  },
  {
   "cell_type": "code",
   "execution_count": null,
   "id": "a617ace6-99b7-47a4-97d3-b639f90a5610",
   "metadata": {},
   "outputs": [],
   "source": []
  },
  {
   "cell_type": "markdown",
   "id": "36a68bb8-516e-423e-ada5-7f03277085bc",
   "metadata": {},
   "source": [
    "#### Q13 A smaller p-value indicates:\n",
    "1. stronger evidence against the null hypothesis\n",
    "2. weaker evidence against the null hypothesis\n",
    "3. stronger evidence in favor of the null hypothesis\n",
    "4. no evidence against the null hypothesis"
   ]
  },
  {
   "cell_type": "markdown",
   "id": "06654390-00d0-4852-9dd5-e5053bea3fb6",
   "metadata": {},
   "source": [
    "The correct answer is:\n",
    "\n",
    "**1. stronger evidence against the null hypothesis**\n",
    "\n",
    "#### Explanation:\n",
    "A smaller p-value indicates that the observed data is less likely under the null hypothesis, providing stronger evidence against it. In hypothesis testing, if the p-value is smaller than the chosen significance level (usually 0.05), it suggests that the null hypothesis should be rejected in favor of the alternative hypothesis."
   ]
  },
  {
   "cell_type": "code",
   "execution_count": null,
   "id": "8979ade9-ee45-4d74-ba60-bc64f21aed72",
   "metadata": {},
   "outputs": [],
   "source": []
  },
  {
   "cell_type": "markdown",
   "id": "09c3bad3-63d6-4ce5-8e5c-3a86ab440f38",
   "metadata": {},
   "source": [
    "#### Q14 what does a correlation coefficient of -1 indicate?\n",
    "1. perfect positive correlation\n",
    "2. perfect negative correlation\n",
    "3. no correlation\n",
    "4. weak positive correlation"
   ]
  },
  {
   "cell_type": "markdown",
   "id": "e6ecd8fd-a5c9-40c1-aaca-7279be65bea5",
   "metadata": {},
   "source": [
    "The correct answer is:\n",
    "\n",
    "**2. perfect negative correlation**\n",
    "\n",
    "#### Explanation:\n",
    "A correlation coefficient of **-1** indicates a perfect negative correlation between two variables. This means that as one variable increases, the other variable decreases in a perfectly predictable, linear manner. The closer the correlation coefficient is to -1, the stronger the negative relationship between the variables."
   ]
  },
  {
   "cell_type": "code",
   "execution_count": null,
   "id": "dbd89ee3-6048-4078-a84f-261f4376c8b5",
   "metadata": {},
   "outputs": [],
   "source": []
  },
  {
   "cell_type": "markdown",
   "id": "7c4b5ab6-d1a9-43f8-b16b-8ec2b30c1648",
   "metadata": {},
   "source": [
    "#### Q15 what is the mean, median and mode of a normal distribution?\n",
    "1. all three are equal\n",
    "2. mean = median != mode\n",
    "3. mean = median = mode\n",
    "4. mean != median != mode "
   ]
  },
  {
   "cell_type": "markdown",
   "id": "c944a741-21b7-40e7-a212-fa0369b41c18",
   "metadata": {},
   "source": [
    "The correct answer is:\n",
    "\n",
    "**1. all three are equal**\n",
    "\n",
    "#### Explanation:\n",
    "In a normal distribution, the mean, median, and mode are all equal and located at the center of the distribution. This symmetry is one of the key characteristics of a normal distribution. The values of the mean, median, and mode coincide at the same point, representing the highest peak of the bell-shaped curve."
   ]
  },
  {
   "cell_type": "code",
   "execution_count": null,
   "id": "4d04c359-5f45-4fbf-bd8d-a3c9f134f553",
   "metadata": {},
   "outputs": [],
   "source": []
  },
  {
   "cell_type": "markdown",
   "id": "2b866436-6c00-49ff-9416-cc52c4f96be1",
   "metadata": {},
   "source": [
    "#### Q16 what percentage of data falls within one standard deviation from the mean in a normal distribution?\n",
    "1. 68%\n",
    "2. 95%\n",
    "3. 99.7%\n",
    "4. 50%"
   ]
  },
  {
   "cell_type": "markdown",
   "id": "e6d3be1d-be6d-4228-89b5-08292282c37d",
   "metadata": {},
   "source": [
    "The correct answer is:\n",
    "\n",
    "**1. 68%**\n",
    "\n",
    "#### Explanation:\n",
    "In a normal distribution, approximately **68%** of the data falls within one standard deviation from the mean. This is part of the **68-95-99.7 rule**, which states that:\n",
    "\n",
    "- 68% of the data falls within one standard deviation of the mean.\n",
    "- 95% falls within two standard deviations.\n",
    "- 99.7% falls within three standard deviations."
   ]
  },
  {
   "cell_type": "code",
   "execution_count": null,
   "id": "03a0cc8f-cf6d-47af-bbc4-e5a8dccf337e",
   "metadata": {},
   "outputs": [],
   "source": []
  },
  {
   "cell_type": "markdown",
   "id": "82793e22-d5ee-42ad-acfb-6ed1d3f01c73",
   "metadata": {},
   "source": [
    "#### Q17 In which distribution does the mean equal the variance?\n",
    "1. poisson distribution\n",
    "2. exponential distribution\n",
    "3. normal distribution\n",
    "4. uniform distribution"
   ]
  },
  {
   "cell_type": "markdown",
   "id": "705ba32d-92a9-48b9-9e2c-ccc577b55d4e",
   "metadata": {},
   "source": [
    "The correct answer is:\n",
    "\n",
    "**1. Poisson distribution**\n",
    "\n",
    "#### Explanation:\n",
    "In a **Poisson distribution**, the mean is equal to the variance. This is a key property of the Poisson distribution, where both the mean (λ) and the variance (also λ) are equal. The Poisson distribution is typically used to model the number of events occurring within a fixed interval of time or space, where events happen independently at a constant rate."
   ]
  },
  {
   "cell_type": "code",
   "execution_count": null,
   "id": "18d7976c-97b1-4911-8260-f283688edc2c",
   "metadata": {},
   "outputs": [],
   "source": []
  },
  {
   "cell_type": "markdown",
   "id": "56a4c5de-d2fe-4431-8832-3e8ab4706f10",
   "metadata": {},
   "source": [
    "#### Q18 Which probability distribution is used to model the number of succession in a fixed number of independent Bernoulli trials?\n",
    "1. normal distribution\n",
    "2. poisson distribution\n",
    "3. binomial distribution\n",
    "4. exponential distribution"
   ]
  },
  {
   "cell_type": "markdown",
   "id": "719e6b15-e970-4681-8583-dafaeb1eb2e7",
   "metadata": {},
   "source": [
    "The correct answer is:\n",
    "\n",
    "**3. binomial distribution**\n",
    "\n",
    "#### Explanation:\n",
    "The **binomial distribution** is used to model the number of successes in a fixed number of independent Bernoulli trials, where each trial has two possible outcomes (success or failure) and the probability of success is constant across trials. It is appropriate when you are dealing with discrete outcomes and a fixed number of trials."
   ]
  },
  {
   "cell_type": "code",
   "execution_count": null,
   "id": "88ff5f99-79a4-4d23-857e-7cd53979e29f",
   "metadata": {},
   "outputs": [],
   "source": []
  },
  {
   "cell_type": "markdown",
   "id": "f9dcea50-d162-4f72-9b63-82cef1668fc6",
   "metadata": {},
   "source": [
    "#### Q19 which measure is unaffected by skewness?\n",
    "1. mean\n",
    "2. median\n",
    "3. mode\n",
    "4. range"
   ]
  },
  {
   "cell_type": "markdown",
   "id": "d64de4c0-d508-467a-a950-6adbb9a5e30f",
   "metadata": {},
   "source": [
    "The correct answer is:\n",
    "\n",
    "**2. median**\n",
    "\n",
    "#### Explanation:\n",
    "The **median** is the measure of central tendency that is least affected by skewness. Unlike the mean, which can be pulled in the direction of the skew, the median represents the middle value of a dataset and remains relatively stable even if the distribution is skewed. The mean, on the other hand, is more sensitive to extreme values (outliers) and skewness."
   ]
  },
  {
   "cell_type": "code",
   "execution_count": null,
   "id": "618db69a-c3cb-4876-b4e8-16d1a21f985b",
   "metadata": {},
   "outputs": [],
   "source": []
  },
  {
   "cell_type": "markdown",
   "id": "3d35a228-014a-4eca-bdb5-a83ba09fbd94",
   "metadata": {},
   "source": [
    "#### Q20 what does positive skewness in a data distribution indicate?\n",
    "1. majority of the data lies to the left of the mean\n",
    "2. majority of the data lies to the right of the mean\n",
    "3. symmetric distribution\n",
    "4. equal distribution of data"
   ]
  },
  {
   "cell_type": "markdown",
   "id": "3e7e9e03-001a-4720-b878-e8f1f862a0f8",
   "metadata": {},
   "source": [
    "The correct answer is:\n",
    "\n",
    "**2. majority of the data lies to the right of the mean**\n",
    "\n",
    "#### Explanation:\n",
    "Positive skewness in a data distribution indicates that the tail on the right side of the distribution is longer or fatter than the left side. This suggests that the majority of the data points are concentrated on the left side, with a few larger values (outliers) pulling the mean to the right. In other words, the mean will be greater than the median in a positively skewed distribution."
   ]
  },
  {
   "cell_type": "code",
   "execution_count": null,
   "id": "c1b97112-11da-4a8b-8c52-4cdbf54c0ae9",
   "metadata": {},
   "outputs": [],
   "source": []
  },
  {
   "cell_type": "markdown",
   "id": "73f34aa0-acc5-437f-8eaf-6e0bb67c656b",
   "metadata": {},
   "source": [
    "#### Q21 Covariance is a measure of :\n",
    "1. strength of the relationship between two variables\n",
    "2. direction of the relationship between two variables\n",
    "3. dispersion of a single variable\n",
    "4. central tendency of a single variable"
   ]
  },
  {
   "cell_type": "markdown",
   "id": "71c58d00-b96b-4afe-91ef-cd8027903b56",
   "metadata": {},
   "source": [
    "The correct answer is:\n",
    "\n",
    "**2. direction of the relationship between two variables**\n",
    "\n",
    "#### Explanation:\n",
    "Covariance is a measure of the **direction** of the relationship between two variables. It indicates whether the two variables tend to increase or decrease together. A positive covariance suggests that as one variable increases, the other tends to increase as well, while a negative covariance suggests that as one variable increases, the other tends to decrease. However, covariance alone does not provide information about the strength of the relationship, and its magnitude is affected by the scale of the variables. To assess the strength and direction of the relationship more effectively, correlation is often used."
   ]
  },
  {
   "cell_type": "code",
   "execution_count": null,
   "id": "9841f86f-7582-4198-bcfe-17c38f93d02f",
   "metadata": {},
   "outputs": [],
   "source": []
  },
  {
   "cell_type": "markdown",
   "id": "82d527c4-df8c-4d0b-80e1-60d99846864b",
   "metadata": {},
   "source": [
    "#### Q22 what does the f-ratio compare in ANOVA?\n",
    "1. within group variance to between -group variance\n",
    "2. means of all groups to the grand mean\n",
    "3. sum of square of all groups to the total sum of squares\n",
    "4. variance of all groups to the variance of the residuals"
   ]
  },
  {
   "cell_type": "markdown",
   "id": "25a43291-9c08-4a99-bae2-83f848d0c7a2",
   "metadata": {},
   "source": [
    "The correct answer is:\n",
    "\n",
    "**1. within-group variance to between-group variance**\n",
    "\n",
    "#### Explanation:\n",
    "In ANOVA (Analysis of Variance), the **F-ratio** compares the **between-group variance** to the **within-group variance**. Specifically, it tests whether the variability between the group means is significantly greater than the variability within the groups. A large F-ratio suggests that there are significant differences between the group means, while a small F-ratio suggests that the group means are similar and any differences could be due to random chance."
   ]
  },
  {
   "cell_type": "code",
   "execution_count": null,
   "id": "2017897f-d77b-4f31-8e48-a908b47d0384",
   "metadata": {},
   "outputs": [],
   "source": []
  },
  {
   "cell_type": "markdown",
   "id": "4364938e-cf11-4366-b1c8-a1a6ac865a37",
   "metadata": {},
   "source": [
    "#### Q23 which of the following is not a requirement for the central limit theorem to apply?\n",
    "1. the population distribution should be normal\n",
    "2. the sample size should be large\n",
    "3. the sample should be independent\n",
    "4. the population standard deviation should be known"
   ]
  },
  {
   "cell_type": "markdown",
   "id": "ebe144ef-1e3e-4478-89cd-42fd76fdbc9c",
   "metadata": {},
   "source": [
    "The correct answer is:\n",
    "\n",
    "**4. the population standard deviation should be known**\n",
    "\n",
    "#### Explanation:\n",
    "For the **Central Limit Theorem (CLT)** to apply, the following requirements must be met:\n",
    "\n",
    "- **2. the sample size should be large**: Generally, a sample size of 30 or more is considered large enough for the CLT to apply, especially if the population distribution is not normal.\n",
    "- **3. the sample should be independent**: The samples should be randomly selected and independent of one another.\n",
    "- **1. the population distribution should be normal**: While the CLT applies even if the population distribution is not normal, the larger the sample size, the less important the assumption of normality becomes.\n",
    "\n",
    "However, the **population standard deviation does not need to be known** for the CLT to apply, making option **d** the correct choice. The population standard deviation is needed for specific tests (like Z-tests), but not for the application of the CLT itself."
   ]
  },
  {
   "cell_type": "code",
   "execution_count": null,
   "id": "0b288279-1704-4cdd-a444-1d501353f7e2",
   "metadata": {},
   "outputs": [],
   "source": []
  },
  {
   "cell_type": "markdown",
   "id": "d69d56b7-b1ba-4b51-9102-6b53185c75ba",
   "metadata": {},
   "source": [
    "#### Q24 What happens to the width of a confidence interval as the confidence level increases?\n",
    "1. it decreases\n",
    "2. it increases\n",
    "3. it remains the same\n",
    "4. it depends on the sample size"
   ]
  },
  {
   "cell_type": "markdown",
   "id": "da513a7b-2421-4277-950e-9264874f32cf",
   "metadata": {},
   "source": [
    "The correct answer is:\n",
    "\n",
    "**2. it increases**\n",
    "\n",
    "#### Explanation:\n",
    "As the confidence level increases, the width of the confidence interval increases. This is because a higher confidence level means you are seeking a higher probability that the interval will contain the true population parameter, so the interval becomes wider to accommodate more possible values. For example, a 99% confidence interval will be wider than a 95% confidence interval to ensure greater certainty that the true value lies within the interval."
   ]
  },
  {
   "cell_type": "code",
   "execution_count": null,
   "id": "54d8fc31-eb8c-4633-8f0a-35708ed41435",
   "metadata": {},
   "outputs": [],
   "source": []
  },
  {
   "cell_type": "markdown",
   "id": "04c89aa4-cfb5-481d-a741-b615866bd484",
   "metadata": {},
   "source": [
    "#### Q25 What does the prior probability represent in bayes theorem?\n",
    "1. probability of the event occurring\n",
    "2. probability of the event occurring given the evidence\n",
    "3. probability of the evidence occurring given the event\n",
    "4. probability of the event occurring independent of any evidence"
   ]
  },
  {
   "cell_type": "markdown",
   "id": "da8b1200-6ee8-4f78-92d7-5ce1e199cd30",
   "metadata": {},
   "source": [
    "The correct answer is:\n",
    "\n",
    "**4. probability of the event occurring independent of any evidence**\n",
    "\n",
    "#### Explanation:\n",
    "In Bayes' Theorem, the **prior probability** represents the probability of an event occurring before any evidence is taken into account. It is based on prior knowledge or beliefs about the event and is updated as new evidence or data (the likelihood) becomes available."
   ]
  },
  {
   "cell_type": "code",
   "execution_count": null,
   "id": "91f21fdd-6e4f-4202-a59b-e16b2aa96095",
   "metadata": {},
   "outputs": [],
   "source": []
  },
  {
   "cell_type": "code",
   "execution_count": null,
   "id": "026adff6-f426-4853-a8b2-16933fc3479f",
   "metadata": {},
   "outputs": [],
   "source": []
  }
 ],
 "metadata": {
  "kernelspec": {
   "display_name": "Python 3 (ipykernel)",
   "language": "python",
   "name": "python3"
  },
  "language_info": {
   "codemirror_mode": {
    "name": "ipython",
    "version": 3
   },
   "file_extension": ".py",
   "mimetype": "text/x-python",
   "name": "python",
   "nbconvert_exporter": "python",
   "pygments_lexer": "ipython3",
   "version": "3.12.7"
  }
 },
 "nbformat": 4,
 "nbformat_minor": 5
}
