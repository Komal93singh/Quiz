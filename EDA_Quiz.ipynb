{
 "cells": [
  {
   "cell_type": "code",
   "execution_count": null,
   "id": "34709dfe-d7a7-4e13-b001-a4b9e5c018ad",
   "metadata": {},
   "outputs": [],
   "source": []
  },
  {
   "cell_type": "markdown",
   "id": "7bc34f53-cac5-453a-92a0-6506d2f64770",
   "metadata": {},
   "source": [
    "# EDA QUIZ\n",
    "---"
   ]
  },
  {
   "cell_type": "code",
   "execution_count": null,
   "id": "d3c3c074-bbf1-4e2e-bc61-85d75889c1d1",
   "metadata": {},
   "outputs": [],
   "source": []
  },
  {
   "cell_type": "code",
   "execution_count": null,
   "id": "925e6dc7-6561-4182-b282-dd6f6e23a860",
   "metadata": {},
   "outputs": [],
   "source": []
  },
  {
   "cell_type": "markdown",
   "id": "e66d4002-612c-426e-9381-8e06708bad2c",
   "metadata": {},
   "source": [
    "### Q1. What is the primary goal of Exploratory Data Analysis(EDA)?\n",
    "1) Buiding Predictive models\n",
    "2) Visualizing data\n",
    "3) Extrating features\n",
    "4) Data Cleaning\n",
    "\n",
    "#### Explanation : The primary goal of Exploratory Data Analysis (EDA) is to understand the data's underlying structure, identify patterns, spot anomalies, test hypotheses, and check assumptions through various visualization and statistical techniques.\n",
    "- Given the options provided, the correct answer is: 2) Visualizing data\n",
    "\n",
    "- Visualizing data is a key aspect of EDA as it helps in understanding the data distributions, relationships, and anomalies which are crucial for making informed decisions in subsequent analysis steps.\n"
   ]
  },
  {
   "cell_type": "code",
   "execution_count": null,
   "id": "48e926ab-2589-4e98-b85c-25a4474d5c06",
   "metadata": {},
   "outputs": [],
   "source": []
  },
  {
   "cell_type": "markdown",
   "id": "0fbc0043-a04a-42fd-bd40-e06ee04e060d",
   "metadata": {},
   "source": [
    "### Q2. Which of the following is not a measure of dispersion?\n",
    "1) Variance\n",
    "2) Standard deviation\n",
    "3) Range\n",
    "4) Mean\n",
    "\n",
    "#### Explanation : The option that is not a measure of dispersion is: 4) Mean\n",
    "- The mean is a measure of central tendency, not dispersion. Variance, standard deviation, and range are all measures of dispersion that describe the spread of data points in a dataset.\n",
    "\n"
   ]
  },
  {
   "cell_type": "code",
   "execution_count": null,
   "id": "b59dce5c-5dd6-42ca-92fc-fbb0c869697b",
   "metadata": {},
   "outputs": [],
   "source": []
  },
  {
   "cell_type": "markdown",
   "id": "003329cb-bc78-4661-b77f-46d61cd3e2b8",
   "metadata": {},
   "source": [
    "### Q3. Which EDA technique is used to detect seasonality in time-series data?\n",
    "1) Autocorrelation plot\n",
    "2) Heat map\n",
    "3) Pie Chart\n",
    "4) Box plot\n",
    "\n",
    "#### Explanation : The EDA technique used to detect seasonality in time-series data is: 1) Autocorrelation plot\n",
    "- Autocorrelation plots (also known as correlograms) help in identifying repeating patterns or seasonality in time-series data by showing the correlation of the series with its own past values at different lags."
   ]
  },
  {
   "cell_type": "code",
   "execution_count": null,
   "id": "47730b22-49ca-4982-aa9c-b6e5f786e4d6",
   "metadata": {},
   "outputs": [],
   "source": []
  },
  {
   "cell_type": "markdown",
   "id": "f1dd8dd3-d3c8-4e25-ab77-9f8b6a666b24",
   "metadata": {},
   "source": [
    "### Q4. Which of the following measures indicates the symmetry of a distribution?\n",
    "1) Kurtosis\n",
    "2) Variance\n",
    "3) Skewness\n",
    "4) Mean\n",
    "\n",
    "#### Explanation : The measure that indicates the symmetry of a distribution is: 3) Skewness\n",
    "\n",
    "- Skewness quantifies the degree of asymmetry of a distribution around its mean."
   ]
  },
  {
   "cell_type": "code",
   "execution_count": null,
   "id": "7ac646a6-5a4d-44a2-8bd6-f24332527678",
   "metadata": {},
   "outputs": [],
   "source": []
  },
  {
   "cell_type": "markdown",
   "id": "38c1206c-cf15-4af0-86a3-98a47d267a9a",
   "metadata": {},
   "source": [
    "### Q5. In EDA, what does the interquartile range(IQR) represent?\n",
    "1) Range between the maximum and minimum values\n",
    "2) Range between the first and third quartiles\n",
    "3) Standard deviation\n",
    "4) Mean absolute deviation\n",
    "\n",
    "\n",
    "\n",
    "#### Explanation :In EDA, the interquartile range (IQR) represents: 2) Range between the first and third quartiles\n",
    "- The IQR is the difference between the third quartile (Q3) and the first quartile (Q1), and it measures the spread of the middle 50% of the data.\n",
    "\n"
   ]
  },
  {
   "cell_type": "code",
   "execution_count": null,
   "id": "7e0f63c2-36de-4f64-a2e2-9ea1ca21b78d",
   "metadata": {},
   "outputs": [],
   "source": []
  },
  {
   "cell_type": "markdown",
   "id": "20118db8-4bfc-42a4-bc8e-05623c487760",
   "metadata": {},
   "source": [
    "### Q6. What does a violin plot display?\n",
    "1) Distribution of data\n",
    "2) Central tendency\n",
    "3) Outliers\n",
    "4) Correlation\n",
    "\n",
    "\n",
    "\n",
    "#### Explanation : A violin plot displays: 1) Distribution of data\n",
    "\n",
    "- A violin plot visualizes the distribution of the data across different categories, combining aspects of a box plot and a kernel density plot to show the density of the data at different values.\n",
    "\n"
   ]
  },
  {
   "cell_type": "code",
   "execution_count": null,
   "id": "8a1b5a8e-e2e8-46d8-822a-ac7efc0cb17b",
   "metadata": {},
   "outputs": [],
   "source": []
  },
  {
   "cell_type": "markdown",
   "id": "890c0e5c-7372-47da-be47-f49f66ed8890",
   "metadata": {},
   "source": [
    "### Q7. Which EDA technique helps in identifying patterns in time-series data?\n",
    "1) Autocorrelation\n",
    "2) Box plot\n",
    "3) Pie Chart\n",
    "4) Histogram\n",
    "\n",
    "\n",
    "#### Explanation : The EDA technique that helps in identifying patterns in time-series data is: 1) Autocorrelation\n",
    "\n",
    "- Autocorrelation is used to measure and analyze the correlation of a time series with its own past values, helping to identify repeating patterns, trends, and seasonality in the data.\n",
    "\n",
    "\n"
   ]
  },
  {
   "cell_type": "code",
   "execution_count": null,
   "id": "971fd299-cb46-4d8b-822e-3fb57401c7b7",
   "metadata": {},
   "outputs": [],
   "source": []
  },
  {
   "cell_type": "markdown",
   "id": "a5f84d6a-10d7-42a2-8917-e4b9baa352ed",
   "metadata": {},
   "source": [
    "### Q8. What is the purpose of data transformation in EDA?\n",
    "1) To convert data into a different format\n",
    "2) To reduce dimensionality\n",
    "3) To make the data suitable for analysis\n",
    "4) To impute missing values\n",
    "\n",
    "\n",
    "#### Explanation : The purpose of data transformation in EDA is: 3) To make the data suitable for analysis\n",
    "\n",
    "- Data transformation involves applying various techniques to modify the data, such as scaling, normalization, and log transformation, to prepare it for analysis and improve the performance of analytical models.\n",
    "\n"
   ]
  },
  {
   "cell_type": "code",
   "execution_count": null,
   "id": "cac43394-9894-4ec9-8184-064a26a6ae54",
   "metadata": {},
   "outputs": [],
   "source": []
  },
  {
   "cell_type": "markdown",
   "id": "3dfd1112-6dbd-4d0e-ac09-cc9fc3c2142e",
   "metadata": {},
   "source": [
    "### Q9. Which of the following is not a step in EDA?\n",
    "1) Data preprocessing\n",
    "2) Data Visualization\n",
    "3) Model training\n",
    "4) Statistical analysis\n",
    "\n",
    "#### Explanation : The option that is not a step in EDA is: 3) Model training\n",
    "\n",
    "- Model training is part of the predictive modeling process, not EDA. EDA focuses on understanding the data through preprocessing, visualization, and statistical analysis.\n",
    "\n",
    "\n"
   ]
  },
  {
   "cell_type": "code",
   "execution_count": null,
   "id": "01f5ca2a-365b-44b7-88c7-89e74c748683",
   "metadata": {},
   "outputs": [],
   "source": []
  },
  {
   "cell_type": "markdown",
   "id": "4e15028b-2254-4bb8-bc8a-43cf18826abb",
   "metadata": {},
   "source": [
    "### Q10. Which plot is suitable for visualizing the distribution of a single continuous variable?\n",
    "1) Histogram\n",
    "2) Box plot\n",
    "3) Scatter plot\n",
    "4) Pie chart\n",
    "\n",
    "#### Explanation : The plot suitable for visualizing the distribution of a single continuous variable is: 1) Histogram\n",
    "\n",
    "- Histograms display the frequency distribution of a continuous variable by showing the number of data points that fall within specified ranges (bins).\n",
    "\n"
   ]
  },
  {
   "cell_type": "code",
   "execution_count": null,
   "id": "473d93d2-c0fc-47b6-971f-c482b6f788fc",
   "metadata": {},
   "outputs": [],
   "source": []
  },
  {
   "cell_type": "markdown",
   "id": "b1db1e4e-5d24-401b-ad8e-1cac62cde932",
   "metadata": {},
   "source": [
    "### Q11. What does a box plot display?\n",
    "1) Mean and median\n",
    "2) Range and Outliers\n",
    "3) Standard deviation\n",
    "4) Frequency distribution\n",
    "\n",
    "\n",
    "#### Explanation : A box plot displays: 2) Range and Outliers\n",
    "\n",
    "- A box plot visually represents the range of the data (from minimum to maximum), the interquartile range (from the first quartile to the third quartile), and any outliers present in the data.\n",
    "\n"
   ]
  },
  {
   "cell_type": "code",
   "execution_count": null,
   "id": "496a1d3a-2695-4bb4-9592-46c3194387ea",
   "metadata": {},
   "outputs": [],
   "source": []
  },
  {
   "cell_type": "markdown",
   "id": "881893b1-a324-49ad-9125-07f9b33cb344",
   "metadata": {},
   "source": [
    "### Q12. Which statistical measure provides information about the central tendency of a dataset?\n",
    "1) Mean\n",
    "2) Standard deviation\n",
    "3) variance\n",
    "4) Correlation Coefficient\n",
    "\n",
    "\n",
    "#### Explanation : The statistical measure that provides information about the central tendency of a dataset is: 1) Mean\n",
    "\n",
    "- The mean is a measure of central tendency that represents the average value of the dataset.\n",
    "\n",
    "\n"
   ]
  },
  {
   "cell_type": "code",
   "execution_count": null,
   "id": "3180b4c5-57d6-48e3-ac01-a1950b1acc4c",
   "metadata": {},
   "outputs": [],
   "source": []
  },
  {
   "cell_type": "markdown",
   "id": "1a100a82-946e-46fc-920f-4dbd5456455f",
   "metadata": {},
   "source": [
    "### Q13. Which tecnique is used to identify missing values in a dataset?\n",
    "1) Data imputation\n",
    "2) Outlier detection\n",
    "3) Null hypothesis testing\n",
    "4) Descriptive statistics\n",
    "\n",
    "\n",
    "#### Explanation : The technique used to identify missing values in a dataset is: 1) Data imputation\n",
    "\n",
    "- When dealing with missing data, data scientists can use two primary methods to solve the error: imputation or data removal. The imputation method substitutes reasonable guesses for missing data. It's most useful when the percentage of missing data is low.    \n",
    "- Descriptive statistics, such as counting the number of missing values or examining summary statistics like counts and percentages of missing values, are commonly used to identify missing data in a dataset.\n",
    "\n"
   ]
  },
  {
   "cell_type": "code",
   "execution_count": null,
   "id": "d652fcbc-2e04-42e5-aa1a-633b0f2f9e58",
   "metadata": {},
   "outputs": [],
   "source": []
  },
  {
   "cell_type": "markdown",
   "id": "dc09dc0a-3744-47c5-81d0-fbe2383cffd1",
   "metadata": {},
   "source": [
    "### Q14. Which measure indicates the spread of data points around the mean?\n",
    "1) Variance\n",
    "2) Skewness\n",
    "3) Kurtosis\n",
    "4) Standard deviation\n",
    "\n",
    "#### Explanation : The measure that indicates the spread of data points around the mean is : 4) Standard deviation\n",
    "\n",
    "- Standard deviation quantifies the dispersion or spread of data points from the mean.\n",
    "\n"
   ]
  },
  {
   "cell_type": "code",
   "execution_count": null,
   "id": "30bd09c9-2523-4ac2-b3d7-22b9d97d6ca7",
   "metadata": {},
   "outputs": [],
   "source": []
  },
  {
   "cell_type": "markdown",
   "id": "720391e6-2a4d-432c-a97c-931fe3a09de1",
   "metadata": {},
   "source": [
    "### Q15. What does skewness measure in a distribution?\n",
    "1) Symmetry\n",
    "2) Spread\n",
    "3) Tails\n",
    "4) Kurtosis\n",
    "\n",
    "\n",
    "#### Explanation : Skewness measures: 1) Symmetry\n",
    "\n",
    "- Skewness quantifies the asymmetry of a distribution, indicating whether the data distribution is symmetric (skewness close to zero), positively skewed (skewness greater than zero), or negatively skewed (skewness less than zero).\n",
    "\n"
   ]
  },
  {
   "cell_type": "code",
   "execution_count": null,
   "id": "36df2242-7180-4d49-87eb-f73aff39b3f5",
   "metadata": {},
   "outputs": [],
   "source": []
  },
  {
   "cell_type": "markdown",
   "id": "38ada751-f9be-4486-8d2d-370d4959658a",
   "metadata": {},
   "source": [
    "### Q16. Which plot is suitable for visualizing the relationship between two continuous variables?\n",
    "1) Scatter plot\n",
    "2) bar chart\n",
    "3) Histogram\n",
    "4) Box plot\n",
    "\n",
    "\n",
    "#### Explanation : The plot suitable for visualizing the relationship between two continuous variables is: 1) Scatter plot\n",
    "\n",
    "- Scatter plots display the relationship between two continuous variables by plotting individual data points on a two-dimensional graph, with one variable on the x-axis and the other variable on the y-axis\n",
    "\n",
    "\n"
   ]
  },
  {
   "cell_type": "code",
   "execution_count": null,
   "id": "9a9afb36-4877-42cd-a6a4-fe9cc6be93fb",
   "metadata": {},
   "outputs": [],
   "source": []
  },
  {
   "cell_type": "markdown",
   "id": "721bb306-fa10-4e9e-9932-47c8c353c85d",
   "metadata": {},
   "source": [
    "### Q17. What is the purpose of a correlation matrix?\n",
    "1) To identify missing values\n",
    "2) To detect outliers\n",
    "3) To measure the strength and direction of linear relationships\n",
    "4) To perform dimensionality reduction\n",
    "\n",
    "\n",
    "#### Explanation : The purpose of a correlation matrix is: 3) To measure the strength and direction of linear relationships\n",
    "\n",
    "- A correlation matrix displays the correlation coefficients between pairs of variables in a dataset, providing information about how strongly and in what direction variables are related to each other.\n",
    "\n",
    "\n",
    "\n",
    "\n",
    "\n"
   ]
  },
  {
   "cell_type": "code",
   "execution_count": null,
   "id": "e1203ffd-0f2b-4869-8852-00dc012cae72",
   "metadata": {},
   "outputs": [],
   "source": []
  },
  {
   "cell_type": "markdown",
   "id": "6cca3e0b-c6fa-4413-a615-e34b040e9d1b",
   "metadata": {},
   "source": [
    "### Q18. Which coefficient measures the strength of a linear relationship between two variables?\n",
    "1) Pearson correlation coefficient\n",
    "2) Spearman rank correlation coefficient\n",
    "3) Kendall tau rank correlation coefficient\n",
    "4) Phi coefficient\n",
    "\n",
    "\n",
    "#### Explanation : The coefficient that measures the strength of a linear relationship between two variables is: 1) Pearson correlation coefficient\n",
    "\n",
    "- The Pearson correlation coefficient quantifies the linear relationship between two continuous variables.The coefficient that measures the strength of a linear relationship between two variables is:\n",
    "\n",
    "\n"
   ]
  },
  {
   "cell_type": "code",
   "execution_count": null,
   "id": "f17ef22d-eb96-4fef-8d2e-fbf904ec6411",
   "metadata": {},
   "outputs": [],
   "source": []
  },
  {
   "cell_type": "markdown",
   "id": "b815312e-a20f-4d6d-a9a9-bb94cd6dc32c",
   "metadata": {},
   "source": [
    "### Q19. What does a heat map represent in EDA?\n",
    "1) Correlation matrix\n",
    "2) Histogram\n",
    "3) Box plot\n",
    "4)  Scatter plot\n",
    "\n",
    "\n",
    "#### Explanation : A heat map in EDA represents: 1) Correlation matrix\n",
    "\n",
    "- Heat maps are commonly used to visualize correlation matrices, where colors are used to represent the strength and direction of correlations between pairs of variables in a dataset.\n",
    "\n",
    "\n"
   ]
  },
  {
   "cell_type": "code",
   "execution_count": null,
   "id": "e8f641bf-95ed-463e-ad4d-dce299f86b5b",
   "metadata": {},
   "outputs": [],
   "source": []
  },
  {
   "cell_type": "markdown",
   "id": "d40592d8-2658-45ac-a021-4f6e508107f7",
   "metadata": {},
   "source": [
    "### Q20. Which Statistical measure assesses the shape of a distribution?\n",
    "1) Kurtosis\n",
    "2) variance\n",
    "3) Standard deviation\n",
    "4) Skewness\n",
    "\n",
    "#### Explanation : The statistical measure that assesses the shape of a distribution is: 1) Kurtosis\n",
    "\n",
    "- Kurtosis measures the peakedness or flatness of a distribution compared to the normal distribution. It indicates whether the data have heavy tails or are more concentrated around the mean.\n",
    "\n",
    "\n"
   ]
  },
  {
   "cell_type": "code",
   "execution_count": null,
   "id": "f60c564d-4473-4d1d-b705-8598f71a4266",
   "metadata": {},
   "outputs": [],
   "source": []
  },
  {
   "cell_type": "markdown",
   "id": "1556fd92-e722-43a2-9388-a2e7026efe12",
   "metadata": {},
   "source": [
    "### Q21. Which EDA tecnnique helps in identifying outliers?\n",
    "1) Box plot\n",
    "2) Histogram\n",
    "3) Pie Chart\n",
    "4) Bar plot\n",
    "\n",
    "\n",
    "\n",
    "#### Explanation : The EDA technique that helps in identifying outliers is: 1) Box plot\n",
    "\n",
    "- Box plots provide a graphical representation of the distribution of data and display outliers as individual data points beyond the whiskers of the plot. Therefore, they are useful for quickly identifying potential outliers in a dataset.\n",
    "\n",
    "\n",
    "\n",
    "\n",
    "\n"
   ]
  },
  {
   "cell_type": "code",
   "execution_count": null,
   "id": "7c623f82-b42c-405f-aede-91127120fa3f",
   "metadata": {},
   "outputs": [],
   "source": []
  },
  {
   "cell_type": "markdown",
   "id": "3910e281-927f-4f66-ba57-f73e9dbf5f78",
   "metadata": {},
   "source": [
    "### Q22. What does a Q-Q plot help in determining?\n",
    "1) Distributional assumptions\n",
    "2) Skewness of the data\n",
    "3) Presence of outliers\n",
    "4) Central tendency of the data \n",
    "\n",
    "\n",
    "#### Explanation : A Q-Q plot helps in determining: 1) Distributional assumptions\n",
    "\n",
    "- Q-Q (quantile-quantile) plots are used to visually assess whether a set of data follows a particular distribution by comparing the quantiles of the data to the quantiles of a theoretical distribution, such as the normal distribution. Therefore, they are particularly useful for assessing distributional assumptions.\n",
    "\n",
    "\n"
   ]
  },
  {
   "cell_type": "code",
   "execution_count": null,
   "id": "ecd32686-ee63-43d5-beb3-a36fb19e5b05",
   "metadata": {},
   "outputs": [],
   "source": []
  },
  {
   "cell_type": "markdown",
   "id": "7f91ba73-41e7-4fbf-9459-44d251512aff",
   "metadata": {},
   "source": [
    "### Q23. Which plot is used to visualize the relationship between categorical and continuous variables?\n",
    "1) Box plot\n",
    "2) Scatter plot\n",
    "3) Bar plot\n",
    "4) Histogram\n",
    "\n",
    "\n",
    "#### Explanation : The plot used to visualize the relationship between categorical and continuous variables is: 3) Bar plot\n",
    "\n",
    "- Bar plots are commonly used to display the distribution of a categorical variable across different levels of a continuous variable. Each bar represents the mean, median, or other summary statistic of the continuous variable for each category of the categorical variable.\n",
    "\n",
    "\n"
   ]
  },
  {
   "cell_type": "code",
   "execution_count": null,
   "id": "1db2d411-44d5-446d-93e9-f773cd24c3ae",
   "metadata": {},
   "outputs": [],
   "source": []
  },
  {
   "cell_type": "markdown",
   "id": "fc99c0f5-c86a-49b4-a0d9-baf6a27b1e0c",
   "metadata": {},
   "source": [
    "### Q24. Which method can be used for feature scaling in EDA?\n",
    "1) Min-Max  Scaling\n",
    "2) Principal Component Analysis (PCA)\n",
    "3) Normalization\n",
    "4) Standardization\n",
    "\n",
    "\n",
    "#### Explanation : Appropriate correct option : 1) Min-Max Scaling\n",
    "\n",
    "- The method that can be used for feature scaling in EDA is: \n",
    "\n",
    "1) Min-Max Scaling\n",
    "3) Normalization\n",
    "4) Standardization\n",
    "\n",
    "- These methods are commonly employed in exploratory data analysis (EDA) to standardize or normalize features, ensuring they have similar scales for effective analysis.\n",
    "\n",
    "- PCA (Principal Component Analysis) is not a method for feature scaling; it's a technique used for dimensionality reduction.\n",
    "\n",
    "\n"
   ]
  },
  {
   "cell_type": "code",
   "execution_count": null,
   "id": "b4e3a9cd-0288-4c2e-9ef5-90f68f41a17f",
   "metadata": {},
   "outputs": [],
   "source": []
  },
  {
   "cell_type": "markdown",
   "id": "7452f0c9-79ed-4f7a-9f22-e44631edc99b",
   "metadata": {},
   "source": [
    "### Q25. Which of the following is not a measure of central tendency?\n",
    "1) Median\n",
    "2) Mode\n",
    "3) Range\n",
    "4) Mean\n",
    "\n",
    "\n",
    "#### Explanation : The option that is not a measure of central tendency is: 3) Range\n",
    "\n",
    "- The range is a measure of dispersion, indicating the spread between the maximum and minimum values in a dataset. Measures of central tendency include the median, mode, and mean, which summarize the center or typical value of a dataset.\n",
    "\n",
    "\n",
    "\n"
   ]
  },
  {
   "cell_type": "code",
   "execution_count": null,
   "id": "b9241ab7-f7b0-4f48-a7d6-fe4aa8616aa9",
   "metadata": {},
   "outputs": [],
   "source": []
  },
  {
   "cell_type": "markdown",
   "id": "5557a3e2-a006-4483-b930-c3e3e938a154",
   "metadata": {},
   "source": [
    "### Q26. Which measure is used to describe the 'peakiness' of a distribution?\n",
    "1) variance\n",
    "2) Kurtosis\n",
    "3) Skewness\n",
    "4) Standard deviation \n",
    "\n",
    "\n",
    "#### Explanation : The measure used to describe the 'peakiness' of a distribution is: 2) Kurtosis\n",
    "\n",
    "- Kurtosis measures the peakedness or flatness of a distribution relative to the normal distribution. Higher kurtosis indicates a sharper, more peaked distribution, while lower kurtosis indicates a flatter distribution.\n",
    "\n",
    "\n"
   ]
  },
  {
   "cell_type": "code",
   "execution_count": null,
   "id": "7d9e49df-17de-4d81-a1f4-d9d9cbae6b52",
   "metadata": {},
   "outputs": [],
   "source": []
  },
  {
   "cell_type": "markdown",
   "id": "37f2fc8d-dc04-41b0-bc92-8446e7aaeaf2",
   "metadata": {},
   "source": [
    "### Q27. Which technique helps in reducing the dimensionality of a dataset while preserving most of the variablity?\n",
    "1) PCA ( principal Component Analysis)\n",
    "2) Histogram\n",
    "3) Box plot\n",
    "4) Scatter plot\n",
    "\n",
    "\n",
    "#### Explanation : The technique that helps in reducing the dimensionality of a dataset while preserving most of the variability is : \n",
    "1) PCA (Principal Component Analysis)\n",
    "\n",
    "- PCA is a dimensionality reduction technique that transforms high-dimensional data into a lower-dimensional space while preserving as much variance as possible. It achieves this by finding orthogonal axes (principal components) along which the data varies the most.\n",
    "\n",
    "\n",
    "\n"
   ]
  },
  {
   "cell_type": "code",
   "execution_count": null,
   "id": "9bd7d997-07a2-418d-b1a9-423ecd2259d7",
   "metadata": {},
   "outputs": [],
   "source": []
  },
  {
   "cell_type": "markdown",
   "id": "e87b2418-0b2c-4f68-a2a2-3aae87a4e901",
   "metadata": {},
   "source": [
    "### Q28. Which plot is used to visualize the frequency distribution of categorical variables?\n",
    "1) Bar plot\n",
    "2) Histogram\n",
    "3) Box plot\n",
    "4) Scatter plot\n",
    "\n",
    "\n",
    "#### Explanation : The plot used to visualize the frequency distribution of categorical variables is: 1) Bar plot\n",
    "\n",
    "- A bar plot is typically used to display the frequency or count of different categories within a categorical variable, making it suitable for visualizing the distribution of categorical data.\n",
    "\n",
    "\n"
   ]
  },
  {
   "cell_type": "code",
   "execution_count": null,
   "id": "24b3a0b0-8cf4-4ba1-b8ba-42fdfb613255",
   "metadata": {},
   "outputs": [],
   "source": []
  },
  {
   "cell_type": "markdown",
   "id": "a59f4157-2990-40de-b2f3-75beb47ffa22",
   "metadata": {},
   "source": [
    "### Q29. Which tecnique helps in detecting multicollinearity among independent variables?\n",
    "1) Correlation matrix\n",
    "2) Scatter plot\n",
    "3) Box plot\n",
    "4) Histogram\n",
    "\n",
    "\n",
    "#### Explanation : The technique that helps in detecting multicollinearity among independent variables is : 1) Correlation matrix\n",
    "\n",
    "- A correlation matrix provides insight into the pairwise correlations between different independent variables. High correlations (either positive or negative) between pairs of independent variables can indicate multicollinearity, which may affect the performance and interpretation of regression models.\n",
    "\n",
    "\n",
    "\n"
   ]
  },
  {
   "cell_type": "code",
   "execution_count": null,
   "id": "2d156586-0003-4fd0-b8f1-30f488bb95a5",
   "metadata": {},
   "outputs": [],
   "source": []
  },
  {
   "cell_type": "markdown",
   "id": "10d423a8-09c9-4ce4-b029-bcb2a47a3f67",
   "metadata": {},
   "source": [
    "### Q30. What does a rug plot display?\n",
    "1) Distribution data points along the x-axis\n",
    "2) Distribution data points along the y-axis\n",
    "3) Distribution data points in 3D space\n",
    "4) Distribution data points in a circular pattern\n",
    " \n",
    "\n",
    "#### Explanation : A rug plot displays: 1) Distribution data points along the x-axis\n",
    "\n",
    "- A rug plot is a one-dimensional representation of the distribution of data points along a single axis, typically the x-axis in a univariate plot. Each data point is marked with a small vertical tick or \"rug\" along the axis to indicate its position.\n",
    "\n",
    "\n"
   ]
  },
  {
   "cell_type": "code",
   "execution_count": null,
   "id": "d45f5822-74c8-4463-888f-d4f45e5b592d",
   "metadata": {},
   "outputs": [],
   "source": []
  },
  {
   "cell_type": "code",
   "execution_count": null,
   "id": "d2f8ea3c-5df9-430b-a35e-e48073a1a232",
   "metadata": {},
   "outputs": [],
   "source": []
  }
 ],
 "metadata": {
  "kernelspec": {
   "display_name": "Python 3 (ipykernel)",
   "language": "python",
   "name": "python3"
  },
  "language_info": {
   "codemirror_mode": {
    "name": "ipython",
    "version": 3
   },
   "file_extension": ".py",
   "mimetype": "text/x-python",
   "name": "python",
   "nbconvert_exporter": "python",
   "pygments_lexer": "ipython3",
   "version": "3.10.8"
  }
 },
 "nbformat": 4,
 "nbformat_minor": 5
}
